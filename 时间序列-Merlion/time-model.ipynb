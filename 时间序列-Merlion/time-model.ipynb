{
 "cells": [
  {
   "cell_type": "markdown",
   "metadata": {},
   "source": [
    "univariate-Time-model"
   ]
  },
  {
   "cell_type": "code",
   "execution_count": 2,
   "metadata": {},
   "outputs": [
    {
     "data": {
      "text/plain": [
       "               v\n",
       "time            \n",
       "2020-04-01  20.0\n",
       "2020-04-02  21.0\n",
       "2020-04-03  25.0\n",
       "2020-04-04  18.0"
      ]
     },
     "execution_count": 2,
     "metadata": {},
     "output_type": "execute_result"
    }
   ],
   "source": [
    "from merlion.utils import TimeSeries\n",
    "import pandas as pd \n",
    "import numpy as np \n",
    "\n",
    "ts_series = pd.Series(\n",
    "    data=[20,21,25,18],\n",
    "    index = pd.date_range('2020-04-01', '2020-04-04',freq=\"D\"),\n",
    "    name= 'v'\n",
    ")\n",
    "\n",
    "ts_df = pd.DataFrame(ts_series)\n",
    "\n",
    "ts = TimeSeries.from_pd(ts_df)\n",
    "\n",
    "ts"
   ]
  },
  {
   "cell_type": "markdown",
   "metadata": {},
   "source": [
    "variate-time-model"
   ]
  },
  {
   "cell_type": "code",
   "execution_count": 3,
   "metadata": {},
   "outputs": [
    {
     "name": "stdout",
     "output_type": "stream",
     "text": [
      "<class 'pandas.core.frame.DataFrame'>\n",
      "DatetimeIndex: 4 entries, 2020-04-01 to 2020-04-04\n",
      "Freq: D\n",
      "Data columns (total 2 columns):\n",
      " #   Column  Non-Null Count  Dtype  \n",
      "---  ------  --------------  -----  \n",
      " 0   v1      4 non-null      int64  \n",
      " 1   v2      3 non-null      float64\n",
      "dtypes: float64(1), int64(1)\n",
      "memory usage: 96.0 bytes\n",
      "              v1    v2\n",
      "time                  \n",
      "2020-04-01  20.0  20.0\n",
      "2020-04-02  21.0  21.0\n",
      "2020-04-03  25.0   NaN\n",
      "2020-04-04  18.0  18.0\n",
      "False\n",
      "              v1    v2\n",
      "time                  \n",
      "2020-04-01  20.0  20.0\n",
      "2020-04-02  21.0  21.0\n",
      "2020-04-03  25.0  19.5\n",
      "2020-04-04  18.0  18.0\n",
      "True\n"
     ]
    }
   ],
   "source": [
    "ts_series_1 = pd.Series(data = [20, 21, 25, 18],\n",
    "                      index = pd.date_range('2020-04-01', '2020-04-04', freq='D'))\n",
    "\n",
    "ts_series_2 = pd.Series(data = [20, 21, np.nan, 18],\n",
    "                      index = pd.date_range('2020-04-01', '2020-04-04', freq='D')\n",
    "                     )\n",
    "\n",
    "ts_df_2 = pd.DataFrame({'v1':ts_series_1, 'v2':ts_series_2})\n",
    "\n",
    "ts_df_2.info()\n",
    "\n",
    "ts = TimeSeries.from_pd(ts_df_2)\n",
    "\n",
    "print(ts)\n",
    "print(ts.is_aligned)\n",
    "\n",
    "# Alignment operation\n",
    "ts_aligned = ts.align()   # 使用线性插值的方式\n",
    "print(ts_aligned)\n",
    "print(ts_aligned.is_aligned)\n"
   ]
  },
  {
   "cell_type": "markdown",
   "metadata": {},
   "source": [
    "Data process -- MinMaxNormalize"
   ]
  },
  {
   "cell_type": "code",
   "execution_count": 5,
   "metadata": {},
   "outputs": [
    {
     "name": "stdout",
     "output_type": "stream",
     "text": [
      "              v1    v2\n",
      "time                  \n",
      "2020-04-01  20.0  20.0\n",
      "2020-04-02  21.0  21.0\n",
      "2020-04-03  25.0  19.5\n",
      "2020-04-04  18.0  18.0\n",
      "                  v1        v2\n",
      "time                          \n",
      "2020-04-01  0.285714  0.666667\n",
      "2020-04-02  0.428571  1.000000\n",
      "2020-04-03  1.000000  0.500000\n",
      "2020-04-04  0.000000  0.000000\n",
      "              v1    v2\n",
      "time                  \n",
      "2020-04-01  20.0  20.0\n",
      "2020-04-02  21.0  21.0\n",
      "2020-04-03  25.0  19.5\n",
      "2020-04-04  18.0  18.0\n"
     ]
    }
   ],
   "source": [
    "from merlion.transform.normalize import MinMaxNormalize\n",
    "# 初始化数据预处理器\n",
    "transform = MinMaxNormalize()\n",
    "# 拟合\n",
    "transform.train(ts_aligned)\n",
    "print(ts_aligned)\n",
    "# 应用预处理器变换\n",
    "ts_transformed = transform(ts_aligned)\n",
    "print(ts_transformed)\n",
    "# 逆变换\n",
    "transform.invert(ts_transformed)\n",
    "print(transform.invert(ts_transformed))"
   ]
  }
 ],
 "metadata": {
  "kernelspec": {
   "display_name": "conda_gpu",
   "language": "python",
   "name": "python3"
  },
  "language_info": {
   "codemirror_mode": {
    "name": "ipython",
    "version": 3
   },
   "file_extension": ".py",
   "mimetype": "text/x-python",
   "name": "python",
   "nbconvert_exporter": "python",
   "pygments_lexer": "ipython3",
   "version": "3.11.4"
  }
 },
 "nbformat": 4,
 "nbformat_minor": 2
}
